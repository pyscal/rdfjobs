{
 "cells": [
  {
   "cell_type": "code",
   "execution_count": 1,
   "id": "a0b254dc-c827-49b5-b04e-8cf880780dd0",
   "metadata": {
    "tags": []
   },
   "outputs": [],
   "source": [
    "from pyiron_atomistics import Project\n",
    "from pyscal_rdf import StructureGraph\n",
    "from rdfjobs.lammps.lammps import RDFLammps\n",
    "from tqdm.notebook import trange"
   ]
  },
  {
   "cell_type": "code",
   "execution_count": 2,
   "id": "95ca93ee-4b6f-47b2-82cc-873ca128c972",
   "metadata": {
    "tags": []
   },
   "outputs": [],
   "source": [
    "import numpy as np"
   ]
  },
  {
   "cell_type": "code",
   "execution_count": 3,
   "id": "b3f69a3e-b6d9-4f9e-a0b6-92c966736f31",
   "metadata": {
    "tags": []
   },
   "outputs": [],
   "source": [
    "pr = Project(\"prod_data_7h\")"
   ]
  },
  {
   "cell_type": "code",
   "execution_count": 4,
   "id": "f13a1c81-0986-4ff5-84bb-c0921b26bc9f",
   "metadata": {
    "tags": []
   },
   "outputs": [],
   "source": [
    "s = StructureGraph(store=pr)"
   ]
  },
  {
   "cell_type": "code",
   "execution_count": 5,
   "id": "25ce78ca-2537-4f51-b519-4414e338a5a5",
   "metadata": {
    "tags": []
   },
   "outputs": [],
   "source": [
    "elements = [\"Fe\", \"Ni\", \"Cu\", \"Al\", \"Ti\", \"Mg\", \"Zn\"]\n",
    "#elements = [\"Fe\"]\n",
    "reps = 2"
   ]
  },
  {
   "cell_type": "code",
   "execution_count": 6,
   "id": "8ba15b5d-8d79-4f76-9782-f1a92d6f0e44",
   "metadata": {
    "tags": []
   },
   "outputs": [
    {
     "data": {
      "application/vnd.jupyter.widget-view+json": {
       "model_id": "d9f091a7cf4046a191c38903f8b69dae",
       "version_major": 2,
       "version_minor": 0
      },
      "text/plain": [
       "  0%|          | 0/7 [00:00<?, ?it/s]"
      ]
     },
     "metadata": {},
     "output_type": "display_data"
    },
    {
     "name": "stdout",
     "output_type": "stream",
     "text": [
      "Fe\n",
      "The job Fe_j_1 was saved and received the ID: 697\n",
      "The job Fe_j_2 was saved and received the ID: 698\n",
      "Ni\n",
      "The job Ni_j_1 was saved and received the ID: 699\n",
      "The job Ni_j_2 was saved and received the ID: 700\n",
      "Cu\n",
      "The job Cu_j_1 was saved and received the ID: 701\n",
      "The job Cu_j_2 was saved and received the ID: 702\n",
      "Al\n",
      "The job Al_j_1 was saved and received the ID: 703\n",
      "The job Al_j_2 was saved and received the ID: 704\n",
      "Ti\n",
      "The job Ti_j_1 was saved and received the ID: 705\n",
      "The job Ti_j_2 was saved and received the ID: 706\n",
      "Mg\n",
      "The job Mg_j_1 was saved and received the ID: 707\n",
      "The job Mg_j_2 was saved and received the ID: 708\n",
      "Zn\n",
      "The job Zn_j_1 was saved and received the ID: 709\n",
      "The job Zn_j_2 was saved and received the ID: 710\n"
     ]
    }
   ],
   "source": [
    "for x in trange(len(elements)):\n",
    "    element = elements[x]\n",
    "    #create structure\n",
    "    struct = s.create_element(element, repetitions=(reps, reps, reps))\n",
    "    #minimise this\n",
    "    job = pr.create_job(job_type=RDFLammps, \n",
    "                        job_name=f'{element}_j_1', \n",
    "                        delete_existing_job=True)\n",
    "    job.structure = struct\n",
    "    if element in [\"Mg\", \"Zn\"]:\n",
    "        job.potential = job.list_potentials()[1]\n",
    "    else:\n",
    "        job.potential = job.list_potentials()[0]\n",
    "    job.calc_minimize()\n",
    "    job.run()\n",
    "    energy_bulk = job.output.energy_tot[-1]\n",
    "    number_atoms = struct.natoms\n",
    "\n",
    "    #collect the minimised structure and add it to graph\n",
    "    min_struct = job.get_structure_as_system()\n",
    "    s.add_structure_to_graph(min_struct)\n",
    "    #delete one atom\n",
    "    del min_struct[np.random.randint(0, min_struct.natoms)]\n",
    "\n",
    "    #now minimise this structure\n",
    "    job = pr.create_job(job_type=RDFLammps, \n",
    "                        job_name=f'{element}_j_2', \n",
    "                        delete_existing_job=True)\n",
    "    job.structure = min_struct\n",
    "    if element in [\"Mg\", \"Zn\"]:\n",
    "        job.potential = job.list_potentials()[1]\n",
    "    else:\n",
    "        job.potential = job.list_potentials()[0]\n",
    "    job.calc_minimize()\n",
    "    job.run()\n",
    "    energy_vac = job.output.energy_tot[-1]\n",
    "\n",
    "    #now calculate vacancy formation energy\n",
    "    form_energy = energy_vac - ((number_atoms-1)/number_atoms)*energy_bulk\n",
    "    #add it to the graph\n",
    "    s.add_calculated_quantity(\"VacancyFormationEnergy\", \n",
    "                              form_energy, \n",
    "                              unit=\"EV\",\n",
    "                              sample=job._final_sample)"
   ]
  },
  {
   "cell_type": "code",
   "execution_count": 7,
   "id": "6ba604bc-1609-40cc-b459-cd2adbfd291e",
   "metadata": {
    "tags": []
   },
   "outputs": [
    {
     "data": {
      "text/plain": [
       "(0.15976862346362708, 28)"
      ]
     },
     "execution_count": 7,
     "metadata": {},
     "output_type": "execute_result"
    }
   ],
   "source": [
    "form_energy, s.n_samples"
   ]
  },
  {
   "cell_type": "code",
   "execution_count": null,
   "id": "43a54524-3cb3-40b2-9f2c-8a935bf6e805",
   "metadata": {},
   "outputs": [],
   "source": []
  }
 ],
 "metadata": {
  "kernelspec": {
   "display_name": "Python 3 (ipykernel)",
   "language": "python",
   "name": "python3"
  },
  "language_info": {
   "codemirror_mode": {
    "name": "ipython",
    "version": 3
   },
   "file_extension": ".py",
   "mimetype": "text/x-python",
   "name": "python",
   "nbconvert_exporter": "python",
   "pygments_lexer": "ipython3",
   "version": "3.10.12"
  }
 },
 "nbformat": 4,
 "nbformat_minor": 5
}
