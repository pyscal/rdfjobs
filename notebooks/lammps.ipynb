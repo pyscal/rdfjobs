{
 "cells": [
  {
   "cell_type": "code",
   "execution_count": 1,
   "id": "a0b254dc-c827-49b5-b04e-8cf880780dd0",
   "metadata": {
    "tags": []
   },
   "outputs": [],
   "source": [
    "from pyiron_atomistics import Project\n",
    "from pyscal_rdf import StructureGraph\n",
    "from rdfjobs.lammps.lammps import RDFLammps\n",
    "from tqdm.notebook import trange"
   ]
  },
  {
   "cell_type": "code",
   "execution_count": 2,
   "id": "95ca93ee-4b6f-47b2-82cc-873ca128c972",
   "metadata": {
    "tags": []
   },
   "outputs": [],
   "source": [
    "import numpy as np"
   ]
  },
  {
   "cell_type": "code",
   "execution_count": 3,
   "id": "b3f69a3e-b6d9-4f9e-a0b6-92c966736f31",
   "metadata": {
    "tags": []
   },
   "outputs": [],
   "source": [
    "pr = Project(\"test_100\")"
   ]
  },
  {
   "cell_type": "code",
   "execution_count": 4,
   "id": "f13a1c81-0986-4ff5-84bb-c0921b26bc9f",
   "metadata": {
    "tags": []
   },
   "outputs": [],
   "source": [
    "s = StructureGraph(store=pr)"
   ]
  },
  {
   "cell_type": "code",
   "execution_count": 5,
   "id": "25ce78ca-2537-4f51-b519-4414e338a5a5",
   "metadata": {
    "tags": []
   },
   "outputs": [],
   "source": [
    "elements = [\"Fe\"]\n",
    "#elements = [\"Fe\"]\n",
    "reps = 2"
   ]
  },
  {
   "cell_type": "code",
   "execution_count": 6,
   "id": "8ba15b5d-8d79-4f76-9782-f1a92d6f0e44",
   "metadata": {
    "tags": []
   },
   "outputs": [
    {
     "data": {
      "application/vnd.jupyter.widget-view+json": {
       "model_id": "8b67a52accfd4fc29d4b37b88bc17525",
       "version_major": 2,
       "version_minor": 0
      },
      "text/plain": [
       "  0%|          | 0/1 [00:00<?, ?it/s]"
      ]
     },
     "metadata": {},
     "output_type": "display_data"
    },
    {
     "name": "stdout",
     "output_type": "stream",
     "text": [
      "Fe\n"
     ]
    },
    {
     "name": "stderr",
     "output_type": "stream",
     "text": [
      "2023-07-04 11:38:42,454 - pyiron_log - WARNING - Job aborted\n",
      "2023-07-04 11:38:42,455 - pyiron_log - WARNING - [mpiexec@cmleo26] match_arg (lib/utils/args.c:166): unrecognized argument oversubscribe\n",
      "[mpiexec@cmleo26] HYDU_parse_array (lib/utils/args.c:181): argument matching returned error\n",
      "[mpiexec@cmleo26] parse_args (mpiexec/get_parameters.c:315): error parsing input array\n",
      "[mpiexec@cmleo26] HYD_uii_mpx_get_parameters (mpiexec/get_parameters.c:47): unable to parse user arguments\n",
      "[mpiexec@cmleo26] main (mpiexec/mpiexec.c:49): error parsing parameters\n",
      "\n"
     ]
    },
    {
     "name": "stdout",
     "output_type": "stream",
     "text": [
      "The job Fe_j_1 was saved and received the ID: 718\n"
     ]
    },
    {
     "ename": "RuntimeError",
     "evalue": "Job aborted",
     "output_type": "error",
     "traceback": [
      "\u001b[0;31m---------------------------------------------------------------------------\u001b[0m",
      "\u001b[0;31mCalledProcessError\u001b[0m                        Traceback (most recent call last)",
      "File \u001b[0;32m~/miniconda3/envs/rdf-wf-4/lib/python3.10/site-packages/pyiron_base/jobs/job/runfunction.py:493\u001b[0m, in \u001b[0;36mexecute_job_with_external_executable\u001b[0;34m(job)\u001b[0m\n\u001b[1;32m    492\u001b[0m \u001b[38;5;28;01mtry\u001b[39;00m:\n\u001b[0;32m--> 493\u001b[0m     out \u001b[38;5;241m=\u001b[39m \u001b[43msubprocess\u001b[49m\u001b[38;5;241;43m.\u001b[39;49m\u001b[43mrun\u001b[49m\u001b[43m(\u001b[49m\n\u001b[1;32m    494\u001b[0m \u001b[43m        \u001b[49m\u001b[43mexecutable\u001b[49m\u001b[43m,\u001b[49m\n\u001b[1;32m    495\u001b[0m \u001b[43m        \u001b[49m\u001b[43mcwd\u001b[49m\u001b[38;5;241;43m=\u001b[39;49m\u001b[43mjob\u001b[49m\u001b[38;5;241;43m.\u001b[39;49m\u001b[43mproject_hdf5\u001b[49m\u001b[38;5;241;43m.\u001b[39;49m\u001b[43mworking_directory\u001b[49m\u001b[43m,\u001b[49m\n\u001b[1;32m    496\u001b[0m \u001b[43m        \u001b[49m\u001b[43mshell\u001b[49m\u001b[38;5;241;43m=\u001b[39;49m\u001b[43mshell\u001b[49m\u001b[43m,\u001b[49m\n\u001b[1;32m    497\u001b[0m \u001b[43m        \u001b[49m\u001b[43mstdout\u001b[49m\u001b[38;5;241;43m=\u001b[39;49m\u001b[43msubprocess\u001b[49m\u001b[38;5;241;43m.\u001b[39;49m\u001b[43mPIPE\u001b[49m\u001b[43m,\u001b[49m\n\u001b[1;32m    498\u001b[0m \u001b[43m        \u001b[49m\u001b[43mstderr\u001b[49m\u001b[38;5;241;43m=\u001b[39;49m\u001b[43msubprocess\u001b[49m\u001b[38;5;241;43m.\u001b[39;49m\u001b[43mSTDOUT\u001b[49m\u001b[43m,\u001b[49m\n\u001b[1;32m    499\u001b[0m \u001b[43m        \u001b[49m\u001b[43muniversal_newlines\u001b[49m\u001b[38;5;241;43m=\u001b[39;49m\u001b[38;5;28;43;01mTrue\u001b[39;49;00m\u001b[43m,\u001b[49m\n\u001b[1;32m    500\u001b[0m \u001b[43m        \u001b[49m\u001b[43mcheck\u001b[49m\u001b[38;5;241;43m=\u001b[39;49m\u001b[38;5;28;43;01mTrue\u001b[39;49;00m\u001b[43m,\u001b[49m\n\u001b[1;32m    501\u001b[0m \u001b[43m    \u001b[49m\u001b[43m)\u001b[49m\u001b[38;5;241m.\u001b[39mstdout\n\u001b[1;32m    502\u001b[0m \u001b[38;5;28;01mexcept\u001b[39;00m subprocess\u001b[38;5;241m.\u001b[39mCalledProcessError \u001b[38;5;28;01mas\u001b[39;00m e:\n",
      "File \u001b[0;32m~/miniconda3/envs/rdf-wf-4/lib/python3.10/subprocess.py:526\u001b[0m, in \u001b[0;36mrun\u001b[0;34m(input, capture_output, timeout, check, *popenargs, **kwargs)\u001b[0m\n\u001b[1;32m    525\u001b[0m     \u001b[38;5;28;01mif\u001b[39;00m check \u001b[38;5;129;01mand\u001b[39;00m retcode:\n\u001b[0;32m--> 526\u001b[0m         \u001b[38;5;28;01mraise\u001b[39;00m CalledProcessError(retcode, process\u001b[38;5;241m.\u001b[39margs,\n\u001b[1;32m    527\u001b[0m                                  output\u001b[38;5;241m=\u001b[39mstdout, stderr\u001b[38;5;241m=\u001b[39mstderr)\n\u001b[1;32m    528\u001b[0m \u001b[38;5;28;01mreturn\u001b[39;00m CompletedProcess(process\u001b[38;5;241m.\u001b[39margs, retcode, stdout, stderr)\n",
      "\u001b[0;31mCalledProcessError\u001b[0m: Command '['/home/menon/pyiron/resources/lammps/bin/run_lammps_2020.03.03_mpi.sh', '2', '1']' returned non-zero exit status 255.",
      "\nDuring handling of the above exception, another exception occurred:\n",
      "\u001b[0;31mRuntimeError\u001b[0m                              Traceback (most recent call last)",
      "Cell \u001b[0;32mIn[6], line 16\u001b[0m\n\u001b[1;32m     14\u001b[0m     job\u001b[38;5;241m.\u001b[39mpotential \u001b[38;5;241m=\u001b[39m job\u001b[38;5;241m.\u001b[39mlist_potentials()[\u001b[38;5;241m0\u001b[39m]\n\u001b[1;32m     15\u001b[0m job\u001b[38;5;241m.\u001b[39mcalc_minimize()\n\u001b[0;32m---> 16\u001b[0m \u001b[43mjob\u001b[49m\u001b[38;5;241;43m.\u001b[39;49m\u001b[43mrun\u001b[49m\u001b[43m(\u001b[49m\u001b[43m)\u001b[49m\n\u001b[1;32m     17\u001b[0m energy_bulk \u001b[38;5;241m=\u001b[39m job\u001b[38;5;241m.\u001b[39moutput\u001b[38;5;241m.\u001b[39menergy_tot[\u001b[38;5;241m-\u001b[39m\u001b[38;5;241m1\u001b[39m]\n\u001b[1;32m     18\u001b[0m number_atoms \u001b[38;5;241m=\u001b[39m struct\u001b[38;5;241m.\u001b[39mnatoms\n",
      "File \u001b[0;32m~/miniconda3/envs/rdf-wf-4/lib/python3.10/site-packages/pyiron_base/utils/deprecate.py:171\u001b[0m, in \u001b[0;36mDeprecator.__deprecate_argument.<locals>.decorated\u001b[0;34m(*args, **kwargs)\u001b[0m\n\u001b[1;32m    161\u001b[0m     \u001b[38;5;28;01mif\u001b[39;00m kw \u001b[38;5;129;01min\u001b[39;00m \u001b[38;5;28mself\u001b[39m\u001b[38;5;241m.\u001b[39marguments:\n\u001b[1;32m    162\u001b[0m         warnings\u001b[38;5;241m.\u001b[39mwarn(\n\u001b[1;32m    163\u001b[0m             message_format\u001b[38;5;241m.\u001b[39mformat(\n\u001b[1;32m    164\u001b[0m                 \u001b[38;5;124m\"\u001b[39m\u001b[38;5;132;01m{}\u001b[39;00m\u001b[38;5;124m.\u001b[39m\u001b[38;5;132;01m{}\u001b[39;00m\u001b[38;5;124m(\u001b[39m\u001b[38;5;132;01m{}\u001b[39;00m\u001b[38;5;124m=\u001b[39m\u001b[38;5;132;01m{}\u001b[39;00m\u001b[38;5;124m)\u001b[39m\u001b[38;5;124m\"\u001b[39m\u001b[38;5;241m.\u001b[39mformat(\n\u001b[0;32m   (...)\u001b[0m\n\u001b[1;32m    169\u001b[0m             stacklevel\u001b[38;5;241m=\u001b[39m\u001b[38;5;241m2\u001b[39m,\n\u001b[1;32m    170\u001b[0m         )\n\u001b[0;32m--> 171\u001b[0m \u001b[38;5;28;01mreturn\u001b[39;00m \u001b[43mfunction\u001b[49m\u001b[43m(\u001b[49m\u001b[38;5;241;43m*\u001b[39;49m\u001b[43margs\u001b[49m\u001b[43m,\u001b[49m\u001b[43m \u001b[49m\u001b[38;5;241;43m*\u001b[39;49m\u001b[38;5;241;43m*\u001b[39;49m\u001b[43mkwargs\u001b[49m\u001b[43m)\u001b[49m\n",
      "File \u001b[0;32m~/miniconda3/envs/rdf-wf-4/lib/python3.10/site-packages/pyiron_base/jobs/job/generic.py:704\u001b[0m, in \u001b[0;36mGenericJob.run\u001b[0;34m(self, delete_existing_job, repair, debug, run_mode, run_again)\u001b[0m\n\u001b[1;32m    702\u001b[0m     \u001b[38;5;28mself\u001b[39m\u001b[38;5;241m.\u001b[39m_run_if_repair()\n\u001b[1;32m    703\u001b[0m \u001b[38;5;28;01melif\u001b[39;00m status \u001b[38;5;241m==\u001b[39m \u001b[38;5;124m\"\u001b[39m\u001b[38;5;124minitialized\u001b[39m\u001b[38;5;124m\"\u001b[39m:\n\u001b[0;32m--> 704\u001b[0m     \u001b[38;5;28;43mself\u001b[39;49m\u001b[38;5;241;43m.\u001b[39;49m\u001b[43m_run_if_new\u001b[49m\u001b[43m(\u001b[49m\u001b[43mdebug\u001b[49m\u001b[38;5;241;43m=\u001b[39;49m\u001b[43mdebug\u001b[49m\u001b[43m)\u001b[49m\n\u001b[1;32m    705\u001b[0m \u001b[38;5;28;01melif\u001b[39;00m status \u001b[38;5;241m==\u001b[39m \u001b[38;5;124m\"\u001b[39m\u001b[38;5;124mcreated\u001b[39m\u001b[38;5;124m\"\u001b[39m:\n\u001b[1;32m    706\u001b[0m     \u001b[38;5;28mself\u001b[39m\u001b[38;5;241m.\u001b[39m_run_if_created()\n",
      "File \u001b[0;32m~/miniconda3/envs/rdf-wf-4/lib/python3.10/site-packages/pyiron_base/jobs/job/generic.py:1238\u001b[0m, in \u001b[0;36mGenericJob._run_if_new\u001b[0;34m(self, debug)\u001b[0m\n\u001b[1;32m   1230\u001b[0m \u001b[38;5;28;01mdef\u001b[39;00m \u001b[38;5;21m_run_if_new\u001b[39m(\u001b[38;5;28mself\u001b[39m, debug\u001b[38;5;241m=\u001b[39m\u001b[38;5;28;01mFalse\u001b[39;00m):\n\u001b[1;32m   1231\u001b[0m \u001b[38;5;250m    \u001b[39m\u001b[38;5;124;03m\"\"\"\u001b[39;00m\n\u001b[1;32m   1232\u001b[0m \u001b[38;5;124;03m    Internal helper function the run if new function is called when the job status is 'initialized'. It prepares\u001b[39;00m\n\u001b[1;32m   1233\u001b[0m \u001b[38;5;124;03m    the hdf5 file and the corresponding directory structure.\u001b[39;00m\n\u001b[0;32m   (...)\u001b[0m\n\u001b[1;32m   1236\u001b[0m \u001b[38;5;124;03m        debug (bool): Debug Mode\u001b[39;00m\n\u001b[1;32m   1237\u001b[0m \u001b[38;5;124;03m    \"\"\"\u001b[39;00m\n\u001b[0;32m-> 1238\u001b[0m     \u001b[43mrun_job_with_status_initialized\u001b[49m\u001b[43m(\u001b[49m\u001b[43mjob\u001b[49m\u001b[38;5;241;43m=\u001b[39;49m\u001b[38;5;28;43mself\u001b[39;49m\u001b[43m,\u001b[49m\u001b[43m \u001b[49m\u001b[43mdebug\u001b[49m\u001b[38;5;241;43m=\u001b[39;49m\u001b[43mdebug\u001b[49m\u001b[43m)\u001b[49m\n",
      "File \u001b[0;32m~/miniconda3/envs/rdf-wf-4/lib/python3.10/site-packages/pyiron_base/jobs/job/runfunction.py:76\u001b[0m, in \u001b[0;36mrun_job_with_status_initialized\u001b[0;34m(job, debug)\u001b[0m\n\u001b[1;32m     74\u001b[0m \u001b[38;5;28;01melse\u001b[39;00m:\n\u001b[1;32m     75\u001b[0m     job\u001b[38;5;241m.\u001b[39msave()\n\u001b[0;32m---> 76\u001b[0m     \u001b[43mjob\u001b[49m\u001b[38;5;241;43m.\u001b[39;49m\u001b[43mrun\u001b[49m\u001b[43m(\u001b[49m\u001b[43m)\u001b[49m\n",
      "File \u001b[0;32m~/miniconda3/envs/rdf-wf-4/lib/python3.10/site-packages/pyiron_base/utils/deprecate.py:171\u001b[0m, in \u001b[0;36mDeprecator.__deprecate_argument.<locals>.decorated\u001b[0;34m(*args, **kwargs)\u001b[0m\n\u001b[1;32m    161\u001b[0m     \u001b[38;5;28;01mif\u001b[39;00m kw \u001b[38;5;129;01min\u001b[39;00m \u001b[38;5;28mself\u001b[39m\u001b[38;5;241m.\u001b[39marguments:\n\u001b[1;32m    162\u001b[0m         warnings\u001b[38;5;241m.\u001b[39mwarn(\n\u001b[1;32m    163\u001b[0m             message_format\u001b[38;5;241m.\u001b[39mformat(\n\u001b[1;32m    164\u001b[0m                 \u001b[38;5;124m\"\u001b[39m\u001b[38;5;132;01m{}\u001b[39;00m\u001b[38;5;124m.\u001b[39m\u001b[38;5;132;01m{}\u001b[39;00m\u001b[38;5;124m(\u001b[39m\u001b[38;5;132;01m{}\u001b[39;00m\u001b[38;5;124m=\u001b[39m\u001b[38;5;132;01m{}\u001b[39;00m\u001b[38;5;124m)\u001b[39m\u001b[38;5;124m\"\u001b[39m\u001b[38;5;241m.\u001b[39mformat(\n\u001b[0;32m   (...)\u001b[0m\n\u001b[1;32m    169\u001b[0m             stacklevel\u001b[38;5;241m=\u001b[39m\u001b[38;5;241m2\u001b[39m,\n\u001b[1;32m    170\u001b[0m         )\n\u001b[0;32m--> 171\u001b[0m \u001b[38;5;28;01mreturn\u001b[39;00m \u001b[43mfunction\u001b[49m\u001b[43m(\u001b[49m\u001b[38;5;241;43m*\u001b[39;49m\u001b[43margs\u001b[49m\u001b[43m,\u001b[49m\u001b[43m \u001b[49m\u001b[38;5;241;43m*\u001b[39;49m\u001b[38;5;241;43m*\u001b[39;49m\u001b[43mkwargs\u001b[49m\u001b[43m)\u001b[49m\n",
      "File \u001b[0;32m~/miniconda3/envs/rdf-wf-4/lib/python3.10/site-packages/pyiron_base/jobs/job/generic.py:706\u001b[0m, in \u001b[0;36mGenericJob.run\u001b[0;34m(self, delete_existing_job, repair, debug, run_mode, run_again)\u001b[0m\n\u001b[1;32m    704\u001b[0m     \u001b[38;5;28mself\u001b[39m\u001b[38;5;241m.\u001b[39m_run_if_new(debug\u001b[38;5;241m=\u001b[39mdebug)\n\u001b[1;32m    705\u001b[0m \u001b[38;5;28;01melif\u001b[39;00m status \u001b[38;5;241m==\u001b[39m \u001b[38;5;124m\"\u001b[39m\u001b[38;5;124mcreated\u001b[39m\u001b[38;5;124m\"\u001b[39m:\n\u001b[0;32m--> 706\u001b[0m     \u001b[38;5;28;43mself\u001b[39;49m\u001b[38;5;241;43m.\u001b[39;49m\u001b[43m_run_if_created\u001b[49m\u001b[43m(\u001b[49m\u001b[43m)\u001b[49m\n\u001b[1;32m    707\u001b[0m \u001b[38;5;28;01melif\u001b[39;00m status \u001b[38;5;241m==\u001b[39m \u001b[38;5;124m\"\u001b[39m\u001b[38;5;124msubmitted\u001b[39m\u001b[38;5;124m\"\u001b[39m:\n\u001b[1;32m    708\u001b[0m     run_job_with_status_submitted(job\u001b[38;5;241m=\u001b[39m\u001b[38;5;28mself\u001b[39m)\n",
      "File \u001b[0;32m~/miniconda3/envs/rdf-wf-4/lib/python3.10/site-packages/pyiron_base/jobs/job/generic.py:1249\u001b[0m, in \u001b[0;36mGenericJob._run_if_created\u001b[0;34m(self)\u001b[0m\n\u001b[1;32m   1240\u001b[0m \u001b[38;5;28;01mdef\u001b[39;00m \u001b[38;5;21m_run_if_created\u001b[39m(\u001b[38;5;28mself\u001b[39m):\n\u001b[1;32m   1241\u001b[0m \u001b[38;5;250m    \u001b[39m\u001b[38;5;124;03m\"\"\"\u001b[39;00m\n\u001b[1;32m   1242\u001b[0m \u001b[38;5;124;03m    Internal helper function the run if created function is called when the job status is 'created'. It executes\u001b[39;00m\n\u001b[1;32m   1243\u001b[0m \u001b[38;5;124;03m    the simulation, either in modal mode, meaning waiting for the simulation to finish, manually, or submits the\u001b[39;00m\n\u001b[0;32m   (...)\u001b[0m\n\u001b[1;32m   1247\u001b[0m \u001b[38;5;124;03m        int: Queue ID - if the job was send to the queue\u001b[39;00m\n\u001b[1;32m   1248\u001b[0m \u001b[38;5;124;03m    \"\"\"\u001b[39;00m\n\u001b[0;32m-> 1249\u001b[0m     \u001b[38;5;28;01mreturn\u001b[39;00m \u001b[43mrun_job_with_status_created\u001b[49m\u001b[43m(\u001b[49m\u001b[43mjob\u001b[49m\u001b[38;5;241;43m=\u001b[39;49m\u001b[38;5;28;43mself\u001b[39;49m\u001b[43m)\u001b[49m\n",
      "File \u001b[0;32m~/miniconda3/envs/rdf-wf-4/lib/python3.10/site-packages/pyiron_base/jobs/job/runfunction.py:99\u001b[0m, in \u001b[0;36mrun_job_with_status_created\u001b[0;34m(job)\u001b[0m\n\u001b[1;32m     97\u001b[0m     job\u001b[38;5;241m.\u001b[39mrun_if_manually(_manually_print\u001b[38;5;241m=\u001b[39m\u001b[38;5;28;01mFalse\u001b[39;00m)\n\u001b[1;32m     98\u001b[0m \u001b[38;5;28;01melif\u001b[39;00m job\u001b[38;5;241m.\u001b[39mserver\u001b[38;5;241m.\u001b[39mrun_mode\u001b[38;5;241m.\u001b[39mmodal:\n\u001b[0;32m---> 99\u001b[0m     \u001b[43mjob\u001b[49m\u001b[38;5;241;43m.\u001b[39;49m\u001b[43mrun_static\u001b[49m\u001b[43m(\u001b[49m\u001b[43m)\u001b[49m\n\u001b[1;32m    100\u001b[0m \u001b[38;5;28;01melif\u001b[39;00m job\u001b[38;5;241m.\u001b[39mserver\u001b[38;5;241m.\u001b[39mrun_mode\u001b[38;5;241m.\u001b[39msrun:\n\u001b[1;32m    101\u001b[0m     job\u001b[38;5;241m.\u001b[39mrun_if_srun()\n",
      "File \u001b[0;32m~/miniconda3/envs/rdf-wf-4/lib/python3.10/site-packages/pyiron_base/jobs/job/generic.py:750\u001b[0m, in \u001b[0;36mGenericJob.run_static\u001b[0;34m(self)\u001b[0m\n\u001b[1;32m    746\u001b[0m \u001b[38;5;28;01mdef\u001b[39;00m \u001b[38;5;21mrun_static\u001b[39m(\u001b[38;5;28mself\u001b[39m):\n\u001b[1;32m    747\u001b[0m \u001b[38;5;250m    \u001b[39m\u001b[38;5;124;03m\"\"\"\u001b[39;00m\n\u001b[1;32m    748\u001b[0m \u001b[38;5;124;03m    The run static function is called by run to execute the simulation.\u001b[39;00m\n\u001b[1;32m    749\u001b[0m \u001b[38;5;124;03m    \"\"\"\u001b[39;00m\n\u001b[0;32m--> 750\u001b[0m     \u001b[43mexecute_job_with_external_executable\u001b[49m\u001b[43m(\u001b[49m\u001b[43mjob\u001b[49m\u001b[38;5;241;43m=\u001b[39;49m\u001b[38;5;28;43mself\u001b[39;49m\u001b[43m)\u001b[49m\n",
      "File \u001b[0;32m~/miniconda3/envs/rdf-wf-4/lib/python3.10/site-packages/pyiron_base/jobs/job/runfunction.py:517\u001b[0m, in \u001b[0;36mexecute_job_with_external_executable\u001b[0;34m(job)\u001b[0m\n\u001b[1;32m    515\u001b[0m     \u001b[38;5;28;01mif\u001b[39;00m job\u001b[38;5;241m.\u001b[39mserver\u001b[38;5;241m.\u001b[39mrun_mode\u001b[38;5;241m.\u001b[39mnon_modal:\n\u001b[1;32m    516\u001b[0m         state\u001b[38;5;241m.\u001b[39mdatabase\u001b[38;5;241m.\u001b[39mclose_connection()\n\u001b[0;32m--> 517\u001b[0m     \u001b[38;5;28;01mraise\u001b[39;00m \u001b[38;5;167;01mRuntimeError\u001b[39;00m(\u001b[38;5;124m\"\u001b[39m\u001b[38;5;124mJob aborted\u001b[39m\u001b[38;5;124m\"\u001b[39m)\n\u001b[1;32m    518\u001b[0m \u001b[38;5;28;01melse\u001b[39;00m:\n\u001b[1;32m    519\u001b[0m     job_crashed \u001b[38;5;241m=\u001b[39m \u001b[38;5;28;01mTrue\u001b[39;00m\n",
      "\u001b[0;31mRuntimeError\u001b[0m: Job aborted"
     ]
    }
   ],
   "source": [
    "for x in trange(len(elements)):\n",
    "    element = elements[x]\n",
    "    #create structure\n",
    "    struct = s.create_element(element, repetitions=(reps, reps, reps))\n",
    "    #minimise this\n",
    "    job = pr.create_job(job_type=RDFLammps, \n",
    "                        job_name=f'{element}_j_1', \n",
    "                        delete_existing_job=True)\n",
    "    job.structure = struct\n",
    "    job.server.cores = 2\n",
    "    if element in [\"Mg\", \"Zn\"]:\n",
    "        job.potential = job.list_potentials()[1]\n",
    "    else:\n",
    "        job.potential = job.list_potentials()[0]\n",
    "    job.calc_minimize()\n",
    "    job.run()\n",
    "    energy_bulk = job.output.energy_tot[-1]\n",
    "    number_atoms = struct.natoms\n",
    "\n",
    "    #collect the minimised structure and add it to graph\n",
    "    min_struct = job.get_structure_as_system()\n",
    "    s.add_structure_to_graph(min_struct)\n",
    "    #delete one atom\n",
    "    del min_struct[np.random.randint(0, min_struct.natoms)]\n",
    "\n",
    "    #now minimise this structure\n",
    "    job = pr.create_job(job_type=RDFLammps, \n",
    "                        job_name=f'{element}_j_2', \n",
    "                        delete_existing_job=True)\n",
    "    job.structure = min_struct\n",
    "    if element in [\"Mg\", \"Zn\"]:\n",
    "        job.potential = job.list_potentials()[1]\n",
    "    else:\n",
    "        job.potential = job.list_potentials()[0]\n",
    "    job.calc_minimize()\n",
    "    job.run()\n",
    "    energy_vac = job.output.energy_tot[-1]\n",
    "\n",
    "    #now calculate vacancy formation energy\n",
    "    form_energy = energy_vac - ((number_atoms-1)/number_atoms)*energy_bulk\n",
    "    #add it to the graph\n",
    "    s.add_calculated_quantity(\"VacancyFormationEnergy\", \n",
    "                              form_energy, \n",
    "                              unit=\"EV\",\n",
    "                              sample=job._final_sample)"
   ]
  },
  {
   "cell_type": "code",
   "execution_count": 7,
   "id": "6ba604bc-1609-40cc-b459-cd2adbfd291e",
   "metadata": {
    "tags": []
   },
   "outputs": [
    {
     "data": {
      "text/plain": [
       "(0.15976862346362708, 28)"
      ]
     },
     "execution_count": 7,
     "metadata": {},
     "output_type": "execute_result"
    }
   ],
   "source": [
    "form_energy, s.n_samples"
   ]
  },
  {
   "cell_type": "code",
   "execution_count": null,
   "id": "43a54524-3cb3-40b2-9f2c-8a935bf6e805",
   "metadata": {},
   "outputs": [],
   "source": []
  }
 ],
 "metadata": {
  "kernelspec": {
   "display_name": "Python 3 (ipykernel)",
   "language": "python",
   "name": "python3"
  },
  "language_info": {
   "codemirror_mode": {
    "name": "ipython",
    "version": 3
   },
   "file_extension": ".py",
   "mimetype": "text/x-python",
   "name": "python",
   "nbconvert_exporter": "python",
   "pygments_lexer": "ipython3",
   "version": "3.10.12"
  }
 },
 "nbformat": 4,
 "nbformat_minor": 5
}
