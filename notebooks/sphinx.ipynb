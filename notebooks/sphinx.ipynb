{
 "cells": [
  {
   "cell_type": "code",
   "execution_count": 1,
   "id": "a0b254dc-c827-49b5-b04e-8cf880780dd0",
   "metadata": {
    "tags": []
   },
   "outputs": [],
   "source": [
    "from pyiron_atomistics import Project\n",
    "from pyscal_rdf import StructureGraph\n",
    "from rdfjobs.sphinx.sphinx import RDFSphinx\n",
    "from tqdm.notebook import trange"
   ]
  },
  {
   "cell_type": "code",
   "execution_count": 2,
   "id": "95ca93ee-4b6f-47b2-82cc-873ca128c972",
   "metadata": {
    "tags": []
   },
   "outputs": [],
   "source": [
    "import numpy as np"
   ]
  },
  {
   "cell_type": "code",
   "execution_count": 3,
   "id": "b3f69a3e-b6d9-4f9e-a0b6-92c966736f31",
   "metadata": {
    "tags": []
   },
   "outputs": [],
   "source": [
    "pr = Project(\"prod_data_7h\")"
   ]
  },
  {
   "cell_type": "code",
   "execution_count": 4,
   "id": "f13a1c81-0986-4ff5-84bb-c0921b26bc9f",
   "metadata": {
    "tags": []
   },
   "outputs": [],
   "source": [
    "s = StructureGraph(store=pr)"
   ]
  },
  {
   "cell_type": "code",
   "execution_count": 5,
   "id": "25ce78ca-2537-4f51-b519-4414e338a5a5",
   "metadata": {
    "tags": []
   },
   "outputs": [],
   "source": [
    "elements = [\"Fe\", \"Ni\", \"Cu\", \"Al\", \"Ti\", \"Mg\", \"Zn\"]\n",
    "#elements = [\"Mo\", \"W\"]\n",
    "reps = 1"
   ]
  },
  {
   "cell_type": "code",
   "execution_count": 6,
   "id": "8ba15b5d-8d79-4f76-9782-f1a92d6f0e44",
   "metadata": {
    "tags": []
   },
   "outputs": [
    {
     "data": {
      "application/vnd.jupyter.widget-view+json": {
       "model_id": "12f6b57c3d7d4011b74875d0f858d067",
       "version_major": 2,
       "version_minor": 0
      },
      "text/plain": [
       "  0%|          | 0/7 [00:00<?, ?it/s]"
      ]
     },
     "metadata": {},
     "output_type": "display_data"
    },
    {
     "name": "stdout",
     "output_type": "stream",
     "text": [
      "Fe\n",
      "The job Fe_j_1 was saved and received the ID: 711\n",
      "Ni\n",
      "The job Ni_j_1 was saved and received the ID: 712\n",
      "Cu\n",
      "The job Cu_j_1 was saved and received the ID: 713\n",
      "Al\n",
      "The job Al_j_1 was saved and received the ID: 714\n",
      "Ti\n",
      "The job Ti_j_1 was saved and received the ID: 715\n",
      "Mg\n",
      "The job Mg_j_1 was saved and received the ID: 716\n",
      "Zn\n",
      "The job Zn_j_1 was saved and received the ID: 717\n"
     ]
    }
   ],
   "source": [
    "for x in trange(len(elements)):\n",
    "    element = elements[x]\n",
    "    #create structure\n",
    "    struct = s.create_element(element, repetitions=(reps, reps, reps))\n",
    "    #minimise this\n",
    "    job = pr.create_job(job_type=RDFSphinx, \n",
    "                        job_name=f'{element}_j_1', \n",
    "                        delete_existing_job=True)\n",
    "    job.structure = struct\n",
    "    job.set_exchange_correlation_functional(\"PBE\")\n",
    "    job.plane_wave_cutoff = 300\n",
    "    k = int((2000/struct.natoms)**(1/3))\n",
    "    job.set_kpoints(mesh=[k, k, k])\n",
    "    job.set_occupancy_smearing(\"fermi\", 0.2)\n",
    "    job.calc_minimize()\n",
    "    job.run()\n",
    "    energy_bulk = job.output.energy_tot[-1]\n",
    "    number_atoms = struct.natoms\n",
    "\n",
    "    #collect the minimised structure and add it to graph\n",
    "    #min_struct = job.get_structure_as_system()\n",
    "    #s.add_structure_to_graph(min_struct)\n",
    "    #delete one atom\n",
    "    #del min_struct[np.random.randint(0, min_struct.natoms)]\n",
    "\n",
    "    #now minimise this structure\n",
    "    #job = pr.create_job(job_type=RDFSphinx, \n",
    "    #                    job_name=f'{element}_j_2', \n",
    "    #                    delete_existing_job=True)\n",
    "    #job.structure = min_struct\n",
    "    #job.set_exchange_correlation_functional(\"PBE\")\n",
    "    #job.plane_wave_cutoff = 300\n",
    "    #k = int((2000/min_struct.natoms)**(1/3))\n",
    "    #job.set_kpoints(mesh=[k, k, k])\n",
    "    #job.set_occupancy_smearing(\"fermi\", 0.2)\n",
    "    #job.calc_minimize()\n",
    "    #job.run()\n",
    "    #energy_vac = job.output.energy_tot[-1]\n",
    "\n",
    "    #now calculate vacancy formation energy\n",
    "    #form_energy = energy_vac - ((number_atoms-1)/number_atoms)*energy_bulk\n",
    "    #add it to the graph\n",
    "    #s.add_calculated_quantity(\"VacancyFormationEnergy\", \n",
    "    #                          form_energy, \n",
    "    #                          unit=\"EV\",\n",
    "    #                          sample=job._final_sample)"
   ]
  },
  {
   "cell_type": "code",
   "execution_count": null,
   "id": "31987253-5eba-4334-8d19-aaf3e7fd4632",
   "metadata": {},
   "outputs": [],
   "source": []
  }
 ],
 "metadata": {
  "kernelspec": {
   "display_name": "Python 3 (ipykernel)",
   "language": "python",
   "name": "python3"
  },
  "language_info": {
   "codemirror_mode": {
    "name": "ipython",
    "version": 3
   },
   "file_extension": ".py",
   "mimetype": "text/x-python",
   "name": "python",
   "nbconvert_exporter": "python",
   "pygments_lexer": "ipython3",
   "version": "3.10.12"
  }
 },
 "nbformat": 4,
 "nbformat_minor": 5
}
